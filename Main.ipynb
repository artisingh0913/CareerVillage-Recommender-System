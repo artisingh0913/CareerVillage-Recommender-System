{
 "cells": [
  {
   "cell_type": "markdown",
   "metadata": {},
   "source": [
    "# Clustering Professionals"
   ]
  },
  {
   "cell_type": "code",
   "execution_count": 1,
   "metadata": {},
   "outputs": [
    {
     "name": "stderr",
     "output_type": "stream",
     "text": [
      "C:\\Users\\aishwarya\\Anaconda3\\lib\\site-packages\\ipykernel\\parentpoller.py:116: UserWarning: Parent poll failed.  If the frontend dies,\n",
      "                the kernel may be left running.  Please let us know\n",
      "                about your system (bitness, Python, etc.) at\n",
      "                ipython-dev@scipy.org\n",
      "  ipython-dev@scipy.org\"\"\")\n"
     ]
    }
   ],
   "source": [
    "# import statements for all of the packages\n",
    "import pandas as pd\n",
    "import numpy as np\n",
    "import matplotlib.pyplot as plt\n",
    "%matplotlib inline"
   ]
  },
  {
   "cell_type": "code",
   "execution_count": 2,
   "metadata": {},
   "outputs": [
    {
     "data": {
      "text/html": [
       "<div>\n",
       "<style scoped>\n",
       "    .dataframe tbody tr th:only-of-type {\n",
       "        vertical-align: middle;\n",
       "    }\n",
       "\n",
       "    .dataframe tbody tr th {\n",
       "        vertical-align: top;\n",
       "    }\n",
       "\n",
       "    .dataframe thead th {\n",
       "        text-align: right;\n",
       "    }\n",
       "</style>\n",
       "<table border=\"1\" class=\"dataframe\">\n",
       "  <thead>\n",
       "    <tr style=\"text-align: right;\">\n",
       "      <th></th>\n",
       "      <th>professionals_id</th>\n",
       "      <th>professionals_location</th>\n",
       "      <th>professionals_industry</th>\n",
       "      <th>professionals_headline</th>\n",
       "      <th>professionals_date_joined</th>\n",
       "    </tr>\n",
       "  </thead>\n",
       "  <tbody>\n",
       "    <tr>\n",
       "      <th>0</th>\n",
       "      <td>9ced4ce7519049c0944147afb75a8ce3</td>\n",
       "      <td>NaN</td>\n",
       "      <td>NaN</td>\n",
       "      <td>NaN</td>\n",
       "      <td>2011-10-05 20:35:19 UTC+0000</td>\n",
       "    </tr>\n",
       "    <tr>\n",
       "      <th>1</th>\n",
       "      <td>f718dcf6d2ec4cb0a52a9db59d7f9e67</td>\n",
       "      <td>NaN</td>\n",
       "      <td>NaN</td>\n",
       "      <td>NaN</td>\n",
       "      <td>2011-10-05 20:49:21 UTC+0000</td>\n",
       "    </tr>\n",
       "    <tr>\n",
       "      <th>2</th>\n",
       "      <td>0c673e046d824ec0ad0ebe012a0673e4</td>\n",
       "      <td>New York, New York</td>\n",
       "      <td>NaN</td>\n",
       "      <td>NaN</td>\n",
       "      <td>2011-10-18 17:31:26 UTC+0000</td>\n",
       "    </tr>\n",
       "    <tr>\n",
       "      <th>3</th>\n",
       "      <td>977428d851b24183b223be0eb8619a8c</td>\n",
       "      <td>Boston, Massachusetts</td>\n",
       "      <td>NaN</td>\n",
       "      <td>NaN</td>\n",
       "      <td>2011-11-09 20:39:29 UTC+0000</td>\n",
       "    </tr>\n",
       "    <tr>\n",
       "      <th>4</th>\n",
       "      <td>e2d57e5041a44f489288397c9904c2b2</td>\n",
       "      <td>NaN</td>\n",
       "      <td>NaN</td>\n",
       "      <td>NaN</td>\n",
       "      <td>2011-12-10 22:14:44 UTC+0000</td>\n",
       "    </tr>\n",
       "  </tbody>\n",
       "</table>\n",
       "</div>"
      ],
      "text/plain": [
       "                   professionals_id professionals_location  \\\n",
       "0  9ced4ce7519049c0944147afb75a8ce3                    NaN   \n",
       "1  f718dcf6d2ec4cb0a52a9db59d7f9e67                    NaN   \n",
       "2  0c673e046d824ec0ad0ebe012a0673e4     New York, New York   \n",
       "3  977428d851b24183b223be0eb8619a8c  Boston, Massachusetts   \n",
       "4  e2d57e5041a44f489288397c9904c2b2                    NaN   \n",
       "\n",
       "  professionals_industry professionals_headline     professionals_date_joined  \n",
       "0                    NaN                    NaN  2011-10-05 20:35:19 UTC+0000  \n",
       "1                    NaN                    NaN  2011-10-05 20:49:21 UTC+0000  \n",
       "2                    NaN                    NaN  2011-10-18 17:31:26 UTC+0000  \n",
       "3                    NaN                    NaN  2011-11-09 20:39:29 UTC+0000  \n",
       "4                    NaN                    NaN  2011-12-10 22:14:44 UTC+0000  "
      ]
     },
     "execution_count": 2,
     "metadata": {},
     "output_type": "execute_result"
    }
   ],
   "source": [
    "# Loading data and printing a few lines \n",
    "df = pd.read_csv('dataset/professionals.csv')\n",
    "df.head()"
   ]
  },
  {
   "cell_type": "code",
   "execution_count": 3,
   "metadata": {},
   "outputs": [
    {
     "data": {
      "text/plain": [
       "(28152, 5)"
      ]
     },
     "execution_count": 3,
     "metadata": {},
     "output_type": "execute_result"
    }
   ],
   "source": [
    "df.shape"
   ]
  },
  {
   "cell_type": "code",
   "execution_count": 4,
   "metadata": {},
   "outputs": [
    {
     "name": "stdout",
     "output_type": "stream",
     "text": [
      "<class 'pandas.core.frame.DataFrame'>\n",
      "RangeIndex: 28152 entries, 0 to 28151\n",
      "Data columns (total 5 columns):\n",
      "professionals_id             28152 non-null object\n",
      "professionals_location       25054 non-null object\n",
      "professionals_industry       25576 non-null object\n",
      "professionals_headline       26085 non-null object\n",
      "professionals_date_joined    28152 non-null object\n",
      "dtypes: object(5)\n",
      "memory usage: 1.1+ MB\n"
     ]
    }
   ],
   "source": [
    "df.info()"
   ]
  },
  {
   "cell_type": "code",
   "execution_count": 5,
   "metadata": {},
   "outputs": [
    {
     "data": {
      "text/plain": [
       "2583"
      ]
     },
     "execution_count": 5,
     "metadata": {},
     "output_type": "execute_result"
    }
   ],
   "source": [
    "df['professionals_location'].unique().size"
   ]
  },
  {
   "cell_type": "code",
   "execution_count": 6,
   "metadata": {},
   "outputs": [],
   "source": [
    "df['professionals_date_joined'] = pd.to_datetime(df['professionals_date_joined'])"
   ]
  },
  {
   "cell_type": "code",
   "execution_count": 7,
   "metadata": {},
   "outputs": [
    {
     "name": "stdout",
     "output_type": "stream",
     "text": [
      "<class 'pandas.core.frame.DataFrame'>\n",
      "RangeIndex: 28152 entries, 0 to 28151\n",
      "Data columns (total 5 columns):\n",
      "professionals_id             28152 non-null object\n",
      "professionals_location       25054 non-null object\n",
      "professionals_industry       25576 non-null object\n",
      "professionals_headline       26085 non-null object\n",
      "professionals_date_joined    28152 non-null datetime64[ns]\n",
      "dtypes: datetime64[ns](1), object(4)\n",
      "memory usage: 1.1+ MB\n"
     ]
    }
   ],
   "source": [
    "df.info()"
   ]
  },
  {
   "cell_type": "code",
   "execution_count": 8,
   "metadata": {},
   "outputs": [],
   "source": [
    "df['professionals_state'] = df['professionals_location'].str.rsplit(\",\", 1).str[-1].str.strip()\n",
    "# df.drop(columns=['professionals_location'], inplace=True)"
   ]
  },
  {
   "cell_type": "code",
   "execution_count": 9,
   "metadata": {},
   "outputs": [
    {
     "name": "stdout",
     "output_type": "stream",
     "text": [
      "<class 'pandas.core.frame.DataFrame'>\n",
      "RangeIndex: 28152 entries, 0 to 28151\n",
      "Data columns (total 6 columns):\n",
      "professionals_id             28152 non-null object\n",
      "professionals_location       25054 non-null object\n",
      "professionals_industry       25576 non-null object\n",
      "professionals_headline       26085 non-null object\n",
      "professionals_date_joined    28152 non-null datetime64[ns]\n",
      "professionals_state          25054 non-null object\n",
      "dtypes: datetime64[ns](1), object(5)\n",
      "memory usage: 1.3+ MB\n"
     ]
    }
   ],
   "source": [
    "df.info()"
   ]
  },
  {
   "cell_type": "code",
   "execution_count": 10,
   "metadata": {},
   "outputs": [
    {
     "data": {
      "text/plain": [
       "0                                   nan\n",
       "1                              New York\n",
       "2                         Massachusetts\n",
       "3                             Wisconsin\n",
       "4                               Vermont\n",
       "5                            Washington\n",
       "6                            California\n",
       "7                              Michigan\n",
       "8                             Tennessee\n",
       "9                                 Texas\n",
       "10                                India\n",
       "11                       United Kingdom\n",
       "12                         Pennsylvania\n",
       "13                              Indiana\n",
       "14                              Arizona\n",
       "15                             Virginia\n",
       "16                               Canada\n",
       "17                        United States\n",
       "18                              Florida\n",
       "19                             Illinois\n",
       "20                               Beburg\n",
       "21                            Minnesota\n",
       "22                           Cape Verde\n",
       "23                              Georgia\n",
       "24                                 Oman\n",
       "25                            Hong Kong\n",
       "26                          Connecticut\n",
       "27                              Alabama\n",
       "28                       North Carolina\n",
       "29                              Uruguay\n",
       "                     ...               \n",
       "296                        Turkmenistan\n",
       "297                            Slovenia\n",
       "298                          Luxembourg\n",
       "299    Democratic Republic of the Congo\n",
       "300                              Raipur\n",
       "301                             Austria\n",
       "302                        Hungary area\n",
       "303                              Howell\n",
       "304                     Tiruchirappalli\n",
       "305                              Zambia\n",
       "306                    County Tipperary\n",
       "307                              Rwanda\n",
       "308                        Laguna Hills\n",
       "309                        Lincoln Park\n",
       "310                             Cordova\n",
       "311                               Syria\n",
       "312                            Elkridge\n",
       "313                             Jamaica\n",
       "314              Bosnia and Herzegovina\n",
       "315                          Boca Raton\n",
       "316                            Honduras\n",
       "317                          Kyrgyzstan\n",
       "318                              Europe\n",
       "319                        Austria area\n",
       "320                Slovak Republic area\n",
       "321                         South Sudan\n",
       "322                              Newark\n",
       "323                           Guatemala\n",
       "324                           Kennewick\n",
       "325                               Macau\n",
       "Length: 326, dtype: object"
      ]
     },
     "execution_count": 10,
     "metadata": {},
     "output_type": "execute_result"
    }
   ],
   "source": [
    "unique_states = pd.Series(df['professionals_state'].unique().astype(str))\n",
    "unique_states"
   ]
  },
  {
   "cell_type": "code",
   "execution_count": 11,
   "metadata": {},
   "outputs": [
    {
     "data": {
      "text/plain": [
       "1                                         New York\n",
       "170    Greater Chicago Area; Greater New York Area\n",
       "190                     Greater New York City Area\n",
       "215                                  New York Area\n",
       "dtype: object"
      ]
     },
     "execution_count": 11,
     "metadata": {},
     "output_type": "execute_result"
    }
   ],
   "source": [
    "unique_states[unique_states.str.contains('New York')==True]"
   ]
  },
  {
   "cell_type": "code",
   "execution_count": 12,
   "metadata": {},
   "outputs": [],
   "source": [
    "# counts = df['professionals_state'].value_counts()\n",
    "states = unique_states.copy()\n",
    "\n",
    "def merge_duplicates(state):\n",
    "    count = 0\n",
    "    for s in states:\n",
    "        if state in s:\n",
    "            count = count + 1\n",
    "        if count == 2:\n",
    "            states.drop(states[states == s].index, inplace=True)\n",
    "            count = 1"
   ]
  },
  {
   "cell_type": "code",
   "execution_count": 13,
   "metadata": {},
   "outputs": [
    {
     "data": {
      "text/plain": [
       "239"
      ]
     },
     "execution_count": 13,
     "metadata": {},
     "output_type": "execute_result"
    }
   ],
   "source": [
    "unique_states.apply(merge_duplicates)\n",
    "states.size"
   ]
  },
  {
   "cell_type": "code",
   "execution_count": 14,
   "metadata": {},
   "outputs": [],
   "source": [
    "temp_pref_states = df['professionals_state'].astype(str).copy()"
   ]
  },
  {
   "cell_type": "code",
   "execution_count": 15,
   "metadata": {},
   "outputs": [],
   "source": [
    "def update_states(state):\n",
    "    global temp_pref_states\n",
    "    def check_state(s):\n",
    "        if state in s:\n",
    "            return state\n",
    "        else:\n",
    "            return s\n",
    "    temp_pref_states = temp_pref_states.apply(check_state)"
   ]
  },
  {
   "cell_type": "code",
   "execution_count": 16,
   "metadata": {},
   "outputs": [
    {
     "data": {
      "text/plain": [
       "0                              na\n",
       "1                              na\n",
       "2                        New York\n",
       "3                   Massachusetts\n",
       "4                              na\n",
       "5                              na\n",
       "6                              na\n",
       "7                              na\n",
       "8                              na\n",
       "9                              na\n",
       "10                      Wisconsin\n",
       "11                             na\n",
       "12                             na\n",
       "13                             na\n",
       "14                             na\n",
       "15                       New York\n",
       "16                             na\n",
       "17                             na\n",
       "18                        Vermont\n",
       "19                       New York\n",
       "20                             na\n",
       "21                             na\n",
       "22                             na\n",
       "23                             na\n",
       "24                             na\n",
       "25                             na\n",
       "26                             na\n",
       "27                     Washington\n",
       "28                  Massachusetts\n",
       "29                     California\n",
       "                   ...           \n",
       "28122                  California\n",
       "28123                  New Jersey\n",
       "28124                  California\n",
       "28125                    New York\n",
       "28126                  Washington\n",
       "28127                  Washington\n",
       "28128                  California\n",
       "28129                    Illinois\n",
       "28130                    Illinois\n",
       "28131                    Illinois\n",
       "28132                    Illinois\n",
       "28133                    Colorado\n",
       "28134                       Texas\n",
       "28135    Greater Los Angeles Area\n",
       "28136                          na\n",
       "28137                    Illinois\n",
       "28138                  Washington\n",
       "28139                       Texas\n",
       "28140                  California\n",
       "28141                       Texas\n",
       "28142                          na\n",
       "28143                       Texas\n",
       "28144                  California\n",
       "28145                       Texas\n",
       "28146                  California\n",
       "28147                  California\n",
       "28148                    Virginia\n",
       "28149                  California\n",
       "28150                       Texas\n",
       "28151                       Texas\n",
       "Name: professionals_state, Length: 28152, dtype: object"
      ]
     },
     "execution_count": 16,
     "metadata": {},
     "output_type": "execute_result"
    }
   ],
   "source": [
    "for state in temp_pref_states:\n",
    "    update_states(state)\n",
    "# temp_pref_states = temp_pref_states.apply(update_states)\n",
    "temp_pref_states"
   ]
  },
  {
   "cell_type": "code",
   "execution_count": 17,
   "metadata": {},
   "outputs": [
    {
     "data": {
      "text/plain": [
       "na                             4414\n",
       "Texas                          2984\n",
       "California                     2921\n",
       "New York                       2238\n",
       "Washington                     1259\n",
       "India                          1228\n",
       "Massachusetts                   940\n",
       "Florida                         875\n",
       "Georgia                         808\n",
       "Illinois                        711\n",
       "Pennsylvania                    679\n",
       "San Francisco Bay Area          513\n",
       "New Jersey                      454\n",
       "Maryland                        416\n",
       "Michigan                        412\n",
       "Greater Atlanta Area            383\n",
       "Dallas/Fort Worth Area          368\n",
       "Greater Los Angeles Area        364\n",
       "Greater Chicago Area            298\n",
       "Virginia                        296\n",
       "Oregon                          288\n",
       "Greater Boston Area             280\n",
       "United States                   263\n",
       "Ohio                            226\n",
       "Greater Seattle Area            218\n",
       "Greater Philadelphia Area       204\n",
       "United Kingdom                  203\n",
       "Connecticut                     194\n",
       "Greater Detroit Area            177\n",
       "Brazil                          159\n",
       "                               ... \n",
       "Macau                             1\n",
       "Cordova                           1\n",
       "U.S. Virgin Islands               1\n",
       "Caribbean                         1\n",
       "Tiruchirappalli                   1\n",
       "no location provided              1\n",
       "Cote D’Ivoire (Ivory Coast)       1\n",
       "Europe                            1\n",
       "Kennewick                         1\n",
       "Dehradun                          1\n",
       "Madagascar                        1\n",
       "Kyrgyzstan                        1\n",
       "Luxembourg                        1\n",
       "Tajikistan                        1\n",
       "Togo                              1\n",
       "Sierra Leone                      1\n",
       "AZ                                1\n",
       "Guam                              1\n",
       "Southbridge                       1\n",
       "Howell                            1\n",
       "Boyle                             1\n",
       "Honduras                          1\n",
       "Athlone                           1\n",
       "Beburg                            1\n",
       "Azerbaijan                        1\n",
       "Iceland                           1\n",
       "Bermuda                           1\n",
       "Raipur                            1\n",
       "Boca Raton                        1\n",
       "Happy Valley                      1\n",
       "Name: professionals_state, Length: 240, dtype: int64"
      ]
     },
     "execution_count": 17,
     "metadata": {},
     "output_type": "execute_result"
    }
   ],
   "source": [
    "temp_pref_states.value_counts()"
   ]
  },
  {
   "cell_type": "code",
   "execution_count": 18,
   "metadata": {},
   "outputs": [
    {
     "data": {
      "text/plain": [
       "KMeans(algorithm='auto', copy_x=True, init='k-means++', max_iter=500,\n",
       "    n_clusters=240, n_init=10, n_jobs=1, precompute_distances=True,\n",
       "    random_state=None, tol=0.0001, verbose=0)"
      ]
     },
     "execution_count": 18,
     "metadata": {},
     "output_type": "execute_result"
    }
   ],
   "source": [
    "from sklearn.cluster import KMeans\n",
    "from sklearn.feature_extraction.text import TfidfVectorizer\n",
    "\n",
    "vectorizer = TfidfVectorizer(min_df = 0, max_df=0.5, stop_words = \"english\", ngram_range = (1,3))\n",
    "# vec = vectorizer.fit(df['professionals_state'].astype(str))   # train vec using list1\n",
    "# vectorized = vec.transform(df['professionals_state'].astype(str))   # transform list1 using vec\n",
    "vec = vectorizer.fit(temp_pref_states.astype(str))   # train vec using list1\n",
    "vectorized = vec.transform(temp_pref_states.astype(str))   # transform list1 using vec\n",
    "\n",
    "km = KMeans(n_clusters=240, init='k-means++', n_init=10, max_iter=500, tol=0.0001, precompute_distances=True, verbose=0, random_state=None, n_jobs=1)\n",
    "\n",
    "km.fit(vectorized)"
   ]
  },
  {
   "cell_type": "code",
   "execution_count": 19,
   "metadata": {},
   "outputs": [
    {
     "data": {
      "text/plain": [
       "1      4414\n",
       "3      2984\n",
       "2      2921\n",
       "4      2238\n",
       "6      1259\n",
       "5      1228\n",
       "7       940\n",
       "10      875\n",
       "12      808\n",
       "9       711\n",
       "13      679\n",
       "70      513\n",
       "17      454\n",
       "15      416\n",
       "0       412\n",
       "14      383\n",
       "18      368\n",
       "8       364\n",
       "23      298\n",
       "20      296\n",
       "19      288\n",
       "22      280\n",
       "21      263\n",
       "24      226\n",
       "31      218\n",
       "25      204\n",
       "28      203\n",
       "16      194\n",
       "29      177\n",
       "43      159\n",
       "       ... \n",
       "236       1\n",
       "189       1\n",
       "205       1\n",
       "221       1\n",
       "190       1\n",
       "206       1\n",
       "222       1\n",
       "191       1\n",
       "217       1\n",
       "232       1\n",
       "210       1\n",
       "216       1\n",
       "226       1\n",
       "195       1\n",
       "211       1\n",
       "227       1\n",
       "196       1\n",
       "212       1\n",
       "228       1\n",
       "197       1\n",
       "213       1\n",
       "229       1\n",
       "198       1\n",
       "214       1\n",
       "230       1\n",
       "199       1\n",
       "215       1\n",
       "207       1\n",
       "200       1\n",
       "231       1\n",
       "Length: 237, dtype: int64"
      ]
     },
     "execution_count": 19,
     "metadata": {},
     "output_type": "execute_result"
    }
   ],
   "source": [
    "temp = pd.Series(km.labels_)\n",
    "temp.value_counts()"
   ]
  },
  {
   "cell_type": "code",
   "execution_count": null,
   "metadata": {},
   "outputs": [],
   "source": []
  }
 ],
 "metadata": {
  "kernelspec": {
   "display_name": "Python 3",
   "language": "python",
   "name": "python3"
  },
  "language_info": {
   "codemirror_mode": {
    "name": "ipython",
    "version": 3
   },
   "file_extension": ".py",
   "mimetype": "text/x-python",
   "name": "python",
   "nbconvert_exporter": "python",
   "pygments_lexer": "ipython3",
   "version": "3.7.0"
  }
 },
 "nbformat": 4,
 "nbformat_minor": 2
}
